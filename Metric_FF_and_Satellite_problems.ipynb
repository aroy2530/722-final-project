{
  "nbformat": 4,
  "nbformat_minor": 0,
  "metadata": {
    "colab": {
      "provenance": []
    },
    "kernelspec": {
      "name": "python3",
      "display_name": "Python 3"
    },
    "language_info": {
      "name": "python"
    }
  },
  "cells": [
    {
      "cell_type": "markdown",
      "source": [
        "# CMSC722 - Final Project\n",
        "This notebook, adapted from TA Caroline Horsch's domain independent planner notebook, contains all code relevant to running Metric-FF on both the Satellite and Blocksworld domains, and how I generated the Satellite domain problems. \n",
        "\n",
        "By running all the cells in this notebook, you can (1) install Metric-FF, (2) run Metric-FF on both domains, with the output stored in local files, and (3) generate 100 random problems in the Satellite domain and store them locally."
      ],
      "metadata": {
        "id": "mOTxji2W2muT"
      }
    },
    {
      "cell_type": "markdown",
      "source": [
        "## **Installing Metric-FF**\n",
        "Note: This section is taken directly from TA Caroline Horsch's notebook."
      ],
      "metadata": {
        "id": "xl745Z9aFbqK"
      }
    },
    {
      "cell_type": "code",
      "source": [
        "# This installs dependecies for Metric-FF\n",
        "! sudo apt install flex \n",
        "! sudo apt install bison"
      ],
      "metadata": {
        "id": "dz7-yRW-2ODL"
      },
      "execution_count": null,
      "outputs": []
    },
    {
      "cell_type": "code",
      "source": [
        "# This cell gets the Metric-FF source code and extracts it\n",
        "! curl https://fai.cs.uni-saarland.de/hoffmann/ff/Metric-FF.tgz --output metricff.tar\n",
        "! tar -xf metricff.tar"
      ],
      "metadata": {
        "id": "5dlOJm15zBrn"
      },
      "execution_count": null,
      "outputs": []
    },
    {
      "cell_type": "code",
      "source": [
        "# This cell builds the Metric-FF planner and produces \n",
        "# the executable application, ff, which I move into the main directory.\n",
        "# There will be warnings, but there should not be any errors.\n",
        "! pwd\n",
        "%cd Metric-FF\n",
        "! make\n",
        "! mv ff ..\n",
        "%cd .."
      ],
      "metadata": {
        "id": "4zcC61gby_cQ"
      },
      "execution_count": null,
      "outputs": []
    },
    {
      "cell_type": "markdown",
      "source": [
        "## **Satellite Problem Generation**\n",
        "The problem files will be stored locally in the *sat-p* folder, but I downloaded them and they can be found in the problems folder for each domain in the codebase as mentioned in the previous section."
      ],
      "metadata": {
        "id": "FV0Ga5lQFu46"
      }
    },
    {
      "cell_type": "code",
      "source": [
        "! g++ satgen.cc -o satgen"
      ],
      "metadata": {
        "id": "0vTc5w_210xE"
      },
      "execution_count": null,
      "outputs": []
    },
    {
      "cell_type": "code",
      "source": [
        "import random"
      ],
      "metadata": {
        "id": "93309x1SEYON"
      },
      "execution_count": null,
      "outputs": []
    },
    {
      "cell_type": "code",
      "source": [
        "! mkdir ./sat-p/size-20\n",
        "! mkdir ./sat-p/size-30\n",
        "! mkdir ./sat-p/size-40\n",
        "! mkdir ./sat-p/size-50\n",
        "! mkdir ./sat-p/size-60\n",
        "! mkdir ./sat-p/size-70\n",
        "! mkdir ./sat-p/size-80\n",
        "! mkdir ./sat-p/size-90\n",
        "! mkdir ./sat-p/size-91\n",
        "! mkdir ./sat-p/size-92"
      ],
      "metadata": {
        "id": "wmgPhEXS2fh6"
      },
      "execution_count": null,
      "outputs": []
    },
    {
      "cell_type": "code",
      "source": [
        "size_folders = ['size-20', 'size-30', 'size-40', 'size-50', 'size-60', 'size-70', 'size-80', 'size-90', 'size-91', 'size-92']\n",
        "\n",
        "for size in size_folders:\n",
        "  prob_num = 0\n",
        "  seed_lst = [random.randint(1, 50) for i in range (0, 10)] # random num for seed\n",
        "\n",
        "  while prob_num < 10:\n",
        "    seed = seed_lst[prob_num]\n",
        "    num_targets = int(size[-2:])\n",
        "    prob_file_name = prob_num+1\n",
        "\n",
        "    os.system(f\"./satgen -n {seed} 10 10 5 {num_targets} 2 > ./sat-p/{size}/{prob_file_name}\")\n",
        "    prob_num += 1"
      ],
      "metadata": {
        "colab": {
          "base_uri": "https://localhost:8080/"
        },
        "id": "A0sTocLa6nh2",
        "outputId": "c4b4becb-9b51-4692-c24c-52847337fa28"
      },
      "execution_count": null,
      "outputs": [
        {
          "output_type": "stream",
          "name": "stdout",
          "text": [
            "in loop with size size-50\n"
          ]
        }
      ]
    },
    {
      "cell_type": "markdown",
      "source": [
        "## **Running Metric-FF**\n",
        "Note that the problems are assumed to be preloaded into the Google Colab environment - I did so manually and divided problems by their size into different folders. These problems can be found in GTPyhop>Examples>*domain*>problems in the codebase."
      ],
      "metadata": {
        "id": "bWewugEPRS4Q"
      }
    },
    {
      "cell_type": "code",
      "source": [
        "import os"
      ],
      "metadata": {
        "id": "fnddnJHbwjZ8"
      },
      "execution_count": 6,
      "outputs": []
    },
    {
      "cell_type": "markdown",
      "source": [
        "###Blocksworld\n",
        "Runs Metric-FF on 100 Blocksworld problems stored in bw-problems folder, output is stored in bw-ff-output folder."
      ],
      "metadata": {
        "id": "1PS1asEIRotD"
      }
    },
    {
      "cell_type": "code",
      "source": [
        "# 10 different problem sizes\n",
        "size_folders = ['size-7', 'size-9', 'size-11', 'size-12', 'size-13', 'size-14', 'size-15', 'size-16', 'size-17', 'size-18']\n",
        "\n",
        "for size in size_folders:\n",
        "        prob_num = 1\n",
        "        os.system(f\"mkdir ./bw-ff-output/{size}\") # where output is stored\n",
        "\n",
        "        while prob_num <= 10:    \n",
        "          \n",
        "            # times out at 30s to avoid hanging      \n",
        "            os.system(f\"timeout 30 ./ff -o ./bw-problems/bw-domain.txt -f ./bw-problems/{size}/{prob_num}.txt > ./bw-ff-output/{size}/{prob_num}\")\n",
        "            prob_num += 1"
      ],
      "metadata": {
        "id": "6-TIsYOzu8tR"
      },
      "execution_count": null,
      "outputs": []
    },
    {
      "cell_type": "markdown",
      "source": [
        "###Satellite\n",
        "Runs Metric-FF on 100 Satellite problems stored in sat-problems, output is stored in sat-ff-output"
      ],
      "metadata": {
        "id": "O-bc0l_7RrH_"
      }
    },
    {
      "cell_type": "code",
      "source": [
        "# 10 different problem sizes\n",
        "size_folders = ['size-20', 'size-30', 'size-40', 'size-50', 'size-60', 'size-70', 'size-80', 'size-90', 'size-91', 'size-92']\n",
        "\n",
        "for size in size_folders:\n",
        "        prob_num = 1\n",
        "        os.system(f\"mkdir ./sat-ff-output/{size}\") # where output is stored\n",
        "\n",
        "        while prob_num <= 10:\n",
        "          \n",
        "            # times out at 30s to avoid hanging      \n",
        "            os.system(f\"timeout 30 ./ff -o ./sat-problems/sat-domain.txt -f ./sat-problems/{size}/{prob_num} > ./sat-ff-output/{size}/{prob_num}\")\n",
        "            prob_num += 1"
      ],
      "metadata": {
        "id": "jalqOL74G5ML"
      },
      "execution_count": null,
      "outputs": []
    },
    {
      "cell_type": "markdown",
      "source": [
        "###Used to download local files."
      ],
      "metadata": {
        "id": "2SsbmAUvVcGl"
      }
    },
    {
      "cell_type": "code",
      "source": [
        "import shutil\n",
        "shutil.make_archive('bw-ff-output', 'zip', 'bw-ff-output')\n",
        "shutil.make_archive('sat-ff-output', 'zip', 'sat-ff-output')"
      ],
      "metadata": {
        "colab": {
          "base_uri": "https://localhost:8080/",
          "height": 35
        },
        "id": "elHnTU4XURxg",
        "outputId": "b84d730e-70dd-49e8-f596-b730ab91e9e7"
      },
      "execution_count": 29,
      "outputs": [
        {
          "output_type": "execute_result",
          "data": {
            "text/plain": [
              "'/content/sat-ff-output.zip'"
            ],
            "application/vnd.google.colaboratory.intrinsic+json": {
              "type": "string"
            }
          },
          "metadata": {},
          "execution_count": 29
        }
      ]
    }
  ]
}